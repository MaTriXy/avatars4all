{
  "nbformat": 4,
  "nbformat_minor": 0,
  "metadata": {
    "colab": {
      "private_outputs": true,
      "provenance": [],
      "machine_shape": "hm",
      "gpuType": "T4",
      "cell_execution_strategy": "setup",
      "include_colab_link": true
    },
    "kernelspec": {
      "name": "python3",
      "display_name": "Python 3"
    },
    "accelerator": "GPU"
  },
  "cells": [
    {
      "cell_type": "markdown",
      "metadata": {
        "id": "view-in-github",
        "colab_type": "text"
      },
      "source": [
        "<a href=\"https://colab.research.google.com/github/eyaler/avatars4all/blob/master/facevidblur.ipynb\" target=\"_parent\"><img src=\"https://colab.research.google.com/assets/colab-badge.svg\" alt=\"Open In Colab\"/></a>"
      ]
    },
    {
      "cell_type": "markdown",
      "source": [
        "#FaceVidBlur\n",
        "\n",
        "### Notebook by [Eyal Gruss](https://eyalgruss.com), [@eyaler](twitter.com/eyaler)\n",
        "\n",
        "Blur faces in video\n",
        "\n",
        "More notebooks: [github.com/eyaler/avatars4all](https://github.com/eyaler/avatars4all)\n",
        "\n",
        "Shortcut here: [tfi.la/face](https://tfi.la/blur)"
      ],
      "metadata": {
        "id": "fIHL9q7CJ4tR"
      }
    },
    {
      "cell_type": "code",
      "source": [
        "#@title Setup\n",
        "\n",
        "import locale\n",
        "locale.getpreferredencoding = lambda: \"UTF-8\"\n",
        "\n",
        "!pip install git+https://github.com/ytdl-org/youtube-dl\n",
        "!pip install imageio\n",
        "!pip install git+https://github.com/1adrianb/face-alignment"
      ],
      "metadata": {
        "cellView": "form",
        "id": "NrVPvyVku1BJ"
      },
      "execution_count": null,
      "outputs": []
    },
    {
      "cell_type": "code",
      "metadata": {
        "id": "ANINpF9JKuk8",
        "cellView": "form"
      },
      "source": [
        "#@title Blur faces in video\n",
        "\n",
        "video_url = 'https://www.youtube.com/watch?v=SoAKSHcrDGg' #@param {type: 'string'}\n",
        "face_num = 0 #@param {type: 'integer'}\n",
        "#@markdown (use face_num = 0 to select the all faces, face_num >= 1 to select a face from faces ordered top to bottom and left to right)\n",
        "min_conf = .8 #@param {type: 'number'}\n",
        "expose_eyes_mouth = False #@param {type: 'boolean'}\n",
        "draw_landmarks = True #@param {type: 'boolean'}\n",
        "landmarks_hex = '0000FF' #@param {type: 'string'}\n",
        "start_seconds = 0 #@param {type: 'number'}\n",
        "duration_seconds = 15 #@param {type: 'number'}\n",
        "#@markdown (use duration_seconds = 0 for unrestricted duration)\n",
        "max_width = 0 #@param {type: 'integer'}\n",
        "#@markdown (use max_width = 0 for unrestricted width)\n",
        "max_height = 0 #@param {type: 'integer'}\n",
        "#@markdown (use max_height = 0 for unrestricted height)\n",
        "output_filename = 'output.mp4' #@param {type: 'string'}\n",
        "\n",
        "need_dl = True\n",
        "try:\n",
        "  if video_url == save_url:\n",
        "    need_dl = False\n",
        "except:\n",
        "  pass\n",
        "if need_dl:\n",
        "  !rm -f /content/video.mp4\n",
        "  !rm -f /content/full_video.mp4\n",
        "  !youtube-dl -f \"bestvideo[ext=mp4][vcodec!*=av01]+bestaudio[ext=m4a]/mp4[vcodec!*=av01]/mp4[vcodec!*=av01]/mp4\" \"$video_url\" --merge-output-format mp4 -o /content/video.mp4\n",
        "  !cp /content/video.mp4 /content/full_video.mp4\n",
        "\n",
        "need_fix_duration = True\n",
        "try:\n",
        "  if video_url == save_url and start_seconds == save_start_seconds and duration_seconds == save_duration_seconds:\n",
        "    need_fix_duration = False\n",
        "except:\n",
        "  pass\n",
        "if need_fix_duration:\n",
        "  if start_seconds or duration_seconds:\n",
        "    !ffmpeg -y -ss $start_seconds -t $duration_seconds -i /content/full_video.mp4 -f mp4 /content/video.mp4\n",
        "  else:\n",
        "    !cp /content/full_video.mp4 video.mp4\n",
        "\n",
        "save_url = video_url\n",
        "save_start_seconds = start_seconds\n",
        "save_duration_seconds = duration_seconds\n",
        "\n",
        "import imageio.v3 as iio\n",
        "from IPython.display import Video, clear_output\n",
        "import face_alignment\n",
        "import numpy as np\n",
        "from skimage.draw import ellipse, polygon, polygon_perimeter\n",
        "\n",
        "fa = face_alignment.FaceAlignment(landmarks_type=1)\n",
        "fps = iio.immeta('/content/video.mp4')['fps']\n",
        "\n",
        "!rm -rf /content/in_frames\n",
        "!mkdir -p /content/in_frames\n",
        "\n",
        "face_parts = {'eyebrow1': slice(17, 22),\n",
        "              'eyebrow2': slice(22, 27),\n",
        "              'nose': slice(27, 31),\n",
        "              'nostril': slice(31, 36),\n",
        "              'eye1': slice(36, 42),\n",
        "              'eye2': slice(42, 48),\n",
        "              'lips': slice(48, 60),\n",
        "              'teeth': slice(60, 68)\n",
        "              }\n",
        "\n",
        "step = len(landmarks_hex) // 3\n",
        "landmarks_rgb = [int(landmarks_hex[i: i + step], 16) * 17**(step == 1) for i in range(0, len(landmarks_hex), step)]\n",
        "\n",
        "for i, im in enumerate(iio.imiter('/content/video.mp4')):\n",
        "  landmarks, _, bboxes = fa.get_landmarks_from_image(im, return_bboxes=True)\n",
        "  if bboxes is not None:\n",
        "    lb = zip(landmarks, bboxes)\n",
        "    if min_conf:\n",
        "      lb = [(l, b) for l, b in lb if b[-1] >= min_conf]\n",
        "    if face_num:\n",
        "      lb = sorted(lb, key=lambda l, b: (b[1], b[3], b[0], b[2]))[face_num - 1 : face_num]\n",
        "    orig = im.copy()\n",
        "    for landmarks, (x0, y0, x1, y1, _) in lb:\n",
        "      x = (x0+x1) / 2\n",
        "      y = (y0+y1) / 2\n",
        "      w = x1 - x0\n",
        "      h = y1 - y0\n",
        "      yy, xx = ellipse(y, x, h/2, w/2)\n",
        "      im[yy, xx] = np.median(orig[yy, xx], axis=0)\n",
        "      if expose_eyes_mouth:\n",
        "        for name, part in face_parts.items():\n",
        "          if name in ('eye1', 'eye2', 'lips'):\n",
        "            yy, xx = polygon(*list(zip(*landmarks[part]))[::-1])\n",
        "            im[yy, xx] = orig[yy, xx]\n",
        "    if draw_landmarks:\n",
        "      for landmarks, _ in lb:\n",
        "        for part in face_parts.values():\n",
        "          yy, xx = polygon_perimeter(*list(zip(*landmarks[part]))[::-1])\n",
        "          im[yy, xx] = landmarks_rgb\n",
        "  iio.imwrite(f'/content/in_frames/frame_{i:06d}.png', im, compress_level=1)\n",
        "\n",
        "!ffmpeg -y -framerate $fps -thread_queue_size 0 -i /content/in_frames/frame_%06d.png -i /content/video.mp4 -c:v libx264 -c:a aac -map 0:v -map 1:a? -vf \"scale=min(iw\\,$max_width):min(ih\\,$max_height):force_original_aspect_ratio=decrease:force_divisible_by=2\" -pix_fmt yuv420p -profile:v baseline -movflags +faststart \"/content/$output_filename\"\n",
        "\n",
        "clear_output()\n",
        "\n",
        "meta = iio.immeta('/content/' + output_filename)\n",
        "print(f'w={meta[\"size\"][0]} h={meta[\"size\"][1]} t={meta[\"duration\"]}, fps={meta[\"fps\"]}')\n",
        "Video('/content/' + output_filename, embed=True, html_attributes=\"autoplay controls loop\")"
      ],
      "execution_count": null,
      "outputs": []
    },
    {
      "cell_type": "code",
      "metadata": {
        "id": "lH4oJcBOKZcf",
        "cellView": "form"
      },
      "source": [
        "#@title Download\n",
        "\n",
        "from google.colab import files\n",
        "files.download('/content/' + output_filename)"
      ],
      "execution_count": null,
      "outputs": []
    }
  ]
}