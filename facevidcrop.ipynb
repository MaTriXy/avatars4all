{
  "nbformat": 4,
  "nbformat_minor": 0,
  "metadata": {
    "colab": {
      "private_outputs": true,
      "provenance": [],
      "machine_shape": "hm",
      "include_colab_link": true
    },
    "kernelspec": {
      "name": "python3",
      "display_name": "Python 3"
    },
    "accelerator": "GPU"
  },
  "cells": [
    {
      "cell_type": "markdown",
      "metadata": {
        "id": "view-in-github",
        "colab_type": "text"
      },
      "source": [
        "<a href=\"https://colab.research.google.com/github/eyaler/avatars4all/blob/master/facevidcrop.ipynb\" target=\"_parent\"><img src=\"https://colab.research.google.com/assets/colab-badge.svg\" alt=\"Open In Colab\"/></a>"
      ]
    },
    {
      "cell_type": "markdown",
      "source": [
        "#FaceVidCrop\n",
        "\n",
        "### Notebook by [Eyal Gruss](https://eyalgruss.com), [@eyaler](twitter.com/eyaler)\n",
        "\n",
        "Crop a video to center on a face\n",
        "\n",
        "Optionally upscale with [GFPGAN](https://github.com/TencentARC/GFPGAN)\n",
        "\n",
        "More notebooks: [github.com/eyaler/avatars4all](https://github.com/eyaler/avatars4all)\n",
        "\n",
        "Shortcut here: [tfi.la/face](https://tfi.la/face)"
      ],
      "metadata": {
        "id": "fIHL9q7CJ4tR"
      }
    },
    {
      "cell_type": "code",
      "source": [
        "#@title Setup\n",
        "\n",
        "import locale\n",
        "locale.getpreferredencoding = lambda: \"UTF-8\"\n",
        "\n",
        "!pip install git+https://github.com/ytdl-org/youtube-dl\n",
        "!pip install imageio\n",
        "!pip install git+https://github.com/1adrianb/face-alignment\n",
        "\n",
        "%cd /content\n",
        "!git clone --depth=1 https://github.com/TencentARC/GFPGAN\n",
        "%cd /content/GFPGAN\n",
        "!pip install basicsr\n",
        "!pip install facexlib\n",
        "!pip install -r requirements.txt\n",
        "!python setup.py develop\n",
        "!pip install realesrgan\n",
        "%cd /content"
      ],
      "metadata": {
        "cellView": "form",
        "id": "NrVPvyVku1BJ"
      },
      "execution_count": null,
      "outputs": []
    },
    {
      "cell_type": "code",
      "source": [
        "#@title Get Video\n",
        "\n",
        "video_url = 'https://www.youtube.com/watch?v=YxWEYmU3eu0' #@param {type:\"string\"}\n",
        "\n",
        "%cd /content\n",
        "!rm -f /content/video.mp4\n",
        "!rm -f /content/full_video.mp4\n",
        "!youtube-dl -f \"bestvideo[ext=mp4][vcodec!*=av01]+bestaudio[ext=m4a]/mp4[vcodec!*=av01]/mp4[vcodec!*=av01]/mp4\" \"$video_url\" --merge-output-format mp4 -o /content/video.mp4\n",
        "!cp /content/video.mp4 /content/full_video.mp4"
      ],
      "metadata": {
        "cellView": "form",
        "id": "xObZig4tu7hD"
      },
      "execution_count": null,
      "outputs": []
    },
    {
      "cell_type": "code",
      "metadata": {
        "id": "ANINpF9JKuk8",
        "cellView": "form"
      },
      "source": [
        "#@title Crop video to face\n",
        "\n",
        "face_num = 0 #@param {type: 'integer'}\n",
        "min_conf = .8 #@param {type: 'number'}\n",
        "top_extend_frac = .7 #@param {type: 'number'}\n",
        "bottom_extend_frac = .7 #@param {type: 'number'}\n",
        "aspect_ratio = 1.33 #@param {type: 'number'}\n",
        "start_seconds = 1 #@param {type: 'number'}\n",
        "duration_seconds = 18 #@param {type: 'number'}\n",
        "GFPGAN_model = '1.4' #@param ['1', '1.2', '1.3', '1.4', 'RestoreFormer']\n",
        "GFPGAN_factor = 0 #@param {type: 'integer'}\n",
        "temporal_mode = 'forward' #@param ['forward', 'reverse', 'forward + reverse']\n",
        "output_filename = 'output.mp4' #@param {type: 'string'}\n",
        "\n",
        "%cd /content\n",
        "if duration_seconds:\n",
        "  !ffmpeg -y -ss $start_seconds -t $duration_seconds -i /content/full_video.mp4 -f mp4 /content/video.mp4\n",
        "\n",
        "import imageio.v3 as iio\n",
        "from IPython.display import Video, clear_output\n",
        "import face_alignment\n",
        "\n",
        "fa = face_alignment.FaceAlignment(landmarks_type=1)\n",
        "fps = iio.immeta('/content/video.mp4')['fps']\n",
        "\n",
        "faces = []\n",
        "good_faces = []\n",
        "for im in iio.imiter('/content/video.mp4'):\n",
        "  *_, bboxes = fa.get_landmarks_from_image(im, return_bboxes=True)\n",
        "  found = False\n",
        "  if min_conf:\n",
        "    bboxes = [b for b in bboxes if b[-1] >= min_conf]\n",
        "  if face_num:\n",
        "    bboxes = sorted(bboxes, key=lambda p: (p[1], p[3], p[0], p[2]))[face_num - 1 : face_num]\n",
        "  if bboxes:\n",
        "    bbox = sorted(bboxes, key=lambda p: (p[2]-p[0]) * (p[3]-p[1]))[-1]\n",
        "    faces.append(bbox[:-1])\n",
        "    good_faces.append(faces[-1])\n",
        "  else:\n",
        "    faces.append(None)\n",
        "\n",
        "median = sorted(good_faces, key=lambda p: (p[2]-p[0]) * (p[3]-p[1]))[len(good_faces) // 2]\n",
        "top = (median[3] - median[1]) * (.5 + top_extend_frac)\n",
        "h = top + (median[3] - median[1]) * (.5 + bottom_extend_frac)\n",
        "if h > im.shape[0]:\n",
        "  top = top / h * im.shape[0]\n",
        "  h = im.shape[0]\n",
        "h = int(h)\n",
        "w = min(round(h * aspect_ratio), im.shape[1])\n",
        "\n",
        "video = []\n",
        "prev_face = good_faces[0]\n",
        "for im, face in zip(iio.imiter('/content/video.mp4'), faces):\n",
        "    x0, y0, x1, y1 = prev_face = prev_face if face is None else face\n",
        "    x = (x0+x1) / 2\n",
        "    y = (y0+y1) / 2\n",
        "\n",
        "    x0 = max(x - w/2, 0)\n",
        "    x1 = int(min(x0 + w, im.shape[1]))\n",
        "    x0 = x1 - w\n",
        "\n",
        "    y0 = max(y - top, 0)\n",
        "    y1 = int(min(y0 + h, im.shape[0]))\n",
        "    y0 = y1 - h\n",
        "\n",
        "    video.append(im[y0 : y1, x0 : x1])\n",
        "\n",
        "iio.imwrite('/content/crop.mp4', video, fps=fps)\n",
        "\n",
        "if GFPGAN_factor:\n",
        "  !rm -rf /content/in_frames\n",
        "  !rm -rf /content/out_frames\n",
        "  !mkdir -p /content/in_frames\n",
        "  !mkdir -p /content/out_frames\n",
        "  !ffmpeg -i \"/content/crop.mp4\" -compression_level 1 /content/in_frames/frame_%06d.png\n",
        "  %cd /content/GFPGAN\n",
        "  !python inference_gfpgan.py -i /content/in_frames -o /content/out_frames -v $GFPGAN_model -s $GFPGAN_factor\n",
        "  %cd /content\n",
        "  !ffmpeg -y -framerate $fps -i /content/out_frames/restored_imgs/frame_%06d.png -i /content/video.mp4 -c:v libx264 -c:a aac -map 0:v -map 1:a? -pix_fmt yuv420p -profile:v baseline -movflags +faststart \"/content/$output_filename\"\n",
        "else:\n",
        "  !ffmpeg -y -i /content/crop.mp4 -i /content/video.mp4 -c:v libx264 -c:a aac -map 0:v -map 1:a? -pix_fmt yuv420p -profile:v baseline -movflags +faststart \"/content/$output_filename\"\n",
        "\n",
        "if temporal_mode.endswith('reverse'):\n",
        "  reverse_filename = 'reverse_' + output_filename\n",
        "  !ffmpeg -y -i \"/content/$output_filename\" -vf reverse -af areverse \"/content/$reverse_filename\"\n",
        "  if temporal_mode == 'forward + reverse':\n",
        "    !echo file \"/content/$output_filename\" > list.txt\n",
        "    !echo file \"/content/$reverse_filename\" >> list.txt\n",
        "    concat_filename = 'concat_' + output_filename\n",
        "    !ffmpeg -y -f concat -safe 0 -i list.txt -c copy \"/content/$concat_filename\"\n",
        "    !mv \"/content/$concat_filename\" \"/content/$output_filename\"\n",
        "  else:\n",
        "    !mv \"/content/$reverse_filename\" \"/content/$output_filename\"\n",
        "clear_output()\n",
        "\n",
        "Video('/content/' + output_filename, embed=True, html_attributes=\"autoplay controls loop\")"
      ],
      "execution_count": null,
      "outputs": []
    },
    {
      "cell_type": "code",
      "metadata": {
        "id": "lH4oJcBOKZcf",
        "cellView": "form"
      },
      "source": [
        "#@title Download\n",
        "\n",
        "from google.colab import files\n",
        "files.download('/content/' + output_filename)"
      ],
      "execution_count": null,
      "outputs": []
    }
  ]
}